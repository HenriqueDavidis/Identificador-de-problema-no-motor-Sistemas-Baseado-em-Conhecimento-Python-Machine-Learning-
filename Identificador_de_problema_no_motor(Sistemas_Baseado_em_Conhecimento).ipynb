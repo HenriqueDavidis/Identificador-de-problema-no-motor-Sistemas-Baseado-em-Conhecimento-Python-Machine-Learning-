{
  "nbformat": 4,
  "nbformat_minor": 0,
  "metadata": {
    "colab": {
      "provenance": []
    },
    "kernelspec": {
      "name": "python3",
      "display_name": "Python 3"
    },
    "language_info": {
      "name": "python"
    }
  },
  "cells": [
    {
      "cell_type": "code",
      "execution_count": null,
      "metadata": {
        "id": "w4mLmI6hNvme"
      },
      "outputs": [],
      "source": [
        "# MOTOR\n",
        "#\n",
        "# Sistemas Baseado em Conhecimento\n",
        "#\n",
        "# Tabela:\n",
        "#\n",
        "# | SITUAÇÃO                                                            |       | Problema                  |\n",
        "# | Se o motor recebe combustivel e o motor funciona                    |   =   | Vela                      |\n",
        "# | Se o motor não funcionar e as luzes não acendem                     |   =   | Bateria e Cabo            |\n",
        "# | Se o motor não funcinar e as luzes acendem                          |   =   | Motor de partida          |\n",
        "# | Se houver combustível no tanque e houver combustível no carburador  |   =   | Motor recebe combustível  |\n",
        "\n",
        "\n",
        "def sistema_baseado_conhecimento():\n",
        "    # Variáveis\n",
        "    combustivel_carburador = input(\"Há combustível no carburador? (Sim/Não): \")\n",
        "    combustivel_tanque = input(\"Há combustível no tanque? (Sim/Não): \")\n",
        "    luzes_acendem = input(\"As luzes acendem? (Sim/Não): \")\n",
        "    motor_funciona = input(\"O motor funciona? (Sim/Não): \")\n",
        "    motor_recebe_combustivel = \"\"\n",
        "\n",
        "    # Regras\n",
        "    if motor_recebe_combustivel == \"Sim\" and motor_funciona == \"Sim\":\n",
        "        problema = \"Vela\"\n",
        "    elif motor_funciona != \"Sim\" and luzes_acendem != \"Sim\":\n",
        "        problema = \"Bateria e Cabo\"\n",
        "    elif motor_funciona != \"Sim\" and luzes_acendem == \"Sim\":\n",
        "        problema = \"Motor de partida\"\n",
        "    else:\n",
        "        problema = \"\"\n",
        "\n",
        "    # Verifica se há combustível no tanque e carburador para definir o valor de Motor recebe combustível\n",
        "    if combustivel_tanque == \"Sim\" and combustivel_carburador == \"Sim\":\n",
        "        motor_recebe_combustivel = \"Sim\"\n",
        "\n",
        "    # Saída\n",
        "    if problema:\n",
        "        print(\"Possível problema: \", problema)\n",
        "    else:\n",
        "        print(\"Não foi possível determinar o problema.\")\n",
        "\n",
        "sistema_baseado_conhecimento()"
      ]
    }
  ]
}